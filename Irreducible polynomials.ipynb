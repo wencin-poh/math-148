{
 "cells": [
  {
   "cell_type": "markdown",
   "metadata": {
    "collapsed": false
   },
   "source": [
    "This creates and prints a polynomial ring $R=\\mathbb{F}_p[x]$. We also initialize $x$ so that SageMath knows what it is."
   ]
  },
  {
   "cell_type": "code",
   "execution_count": 66,
   "metadata": {
    "collapsed": false
   },
   "outputs": [
   ],
   "source": [
    "p = 3\n",
    "R = GF(p)['x']; R\n",
    "x = R.gens()[0]"
   ]
  },
  {
   "cell_type": "markdown",
   "metadata": {
    "collapsed": false
   },
   "source": [
    "The following function initializes a polynomial $f(x)=a_0+a_1x+\\ldots+a_n x^n$ given a vector of its coefficients, $t=(a_0,a_1,\\ldots,a_n)$."
   ]
  },
  {
   "cell_type": "code",
   "execution_count": 2,
   "metadata": {
    "collapsed": false
   },
   "outputs": [
   ],
   "source": [
    "def create_poly(t):\n",
    "    f = 0\n",
    "    for i,coeff in enumerate(t):\n",
    "        f += coeff*x^i\n",
    "    return f"
   ]
  },
  {
   "cell_type": "code",
   "execution_count": 3,
   "metadata": {
    "collapsed": false
   },
   "outputs": [
    {
     "data": {
      "text/plain": [
       "x^3 + x^2 + 1"
      ]
     },
     "execution_count": 3,
     "metadata": {
     },
     "output_type": "execute_result"
    }
   ],
   "source": [
    "t = (1,0,1,1)\n",
    "f = create_poly(t); f"
   ]
  },
  {
   "cell_type": "markdown",
   "metadata": {
    "collapsed": false
   },
   "source": [
    "The following code generates all monic, irreducible polynomial $f(x)$ of degree at most $m$ in $\\mathbb{F}_{p}[x]$. It works similarly to the Sieve of Erathosthenes to generate prime numbers:\n",
    "- First, generate all polynomials of degree at most $m$ and create an empty list $I$.\n",
    "- Starting from degree 1 and going up, we check if a polynomial $g(x)$ is divisible by any $f(x)\\in I$. If $g(x)$ is not divisible by all polynomials in $I$, add $g(x)$ to $I$. Otherwise, $f(x)$ is reducible, so do nothing and proceed to the next polynomial on the list."
   ]
  },
  {
   "cell_type": "code",
   "execution_count": 4,
   "metadata": {
    "collapsed": false,
    "scrolled": true
   },
   "outputs": [
    {
     "name": "stdout",
     "output_type": "stream",
     "text": [
      "[x, x + 1, x + 2, x^2 + 1, x^2 + x + 2, x^2 + 2*x + 2, x^3 + 2*x^2 + 1, x^3 + 2*x^2 + x + 1, x^3 + 2*x + 1, x^3 + x^2 + 2*x + 1, x^3 + x^2 + 2, x^3 + x^2 + x + 2, x^3 + 2*x + 2, x^3 + 2*x^2 + 2*x + 2, x^4 + x^3 + x^2 + 1, x^4 + 2*x^3 + x^2 + 1, x^4 + 2*x^3 + x + 1, x^4 + x^2 + x + 1, x^4 + x^3 + x^2 + x + 1, x^4 + x^3 + 2*x + 1, x^4 + x^2 + 2*x + 1, x^4 + 2*x^3 + x^2 + 2*x + 1, x^4 + x^3 + 2, x^4 + 2*x^3 + 2, x^4 + x^2 + 2, x^4 + 2*x^2 + 2, x^4 + x + 2, x^4 + 2*x^3 + x^2 + x + 2, x^4 + 2*x^3 + 2*x^2 + x + 2, x^4 + 2*x + 2, x^4 + x^3 + x^2 + 2*x + 2, x^4 + x^3 + 2*x^2 + 2*x + 2]\n"
     ]
    }
   ],
   "source": [
    "m = 4\n",
    "from itertools import product as Product\n",
    "I = []\n",
    "for d in range(m+1):\n",
    "    for t in Product(range(p),repeat=d):\n",
    "        g = create_poly(list(t)+[1])\n",
    "        if g.degree()<1:\n",
    "            continue\n",
    "        irreducible = True\n",
    "        for f in I:\n",
    "            if g%f==0:\n",
    "                irreducible = False\n",
    "                break\n",
    "        if irreducible:\n",
    "            I += [g]\n",
    "print(I)"
   ]
  },
  {
   "cell_type": "markdown",
   "metadata": {
    "collapsed": false
   },
   "source": [
    "Now, we pick one irreducible polynomial $f(x)$."
   ]
  },
  {
   "cell_type": "code",
   "execution_count": 5,
   "metadata": {
    "collapsed": false
   },
   "outputs": [
    {
     "data": {
      "text/plain": [
       "x^3 + x^2 + 2*x + 1"
      ]
     },
     "execution_count": 5,
     "metadata": {
     },
     "output_type": "execute_result"
    }
   ],
   "source": [
    "f=I[9]; f"
   ]
  },
  {
   "cell_type": "markdown",
   "metadata": {
    "collapsed": false
   },
   "source": [
    "We use $f$ to create a finite field $F=\\mathbb{Z}_p[x]/(f(x))$. We also call the representative $x$ modulo $f(x)$ as $a$. We check that it is indeed finite and inspect its size. Observe that the size of $F$ is indeed $p^{\\deg(f)}$."
   ]
  },
  {
   "cell_type": "code",
   "execution_count": 6,
   "metadata": {
    "collapsed": false
   },
   "outputs": [
   ],
   "source": [
    "F = QuotientRing(R,Ideal(f),names='a')\n",
    "a = F.gens()[0]"
   ]
  },
  {
   "cell_type": "code",
   "execution_count": 7,
   "metadata": {
    "collapsed": false
   },
   "outputs": [
    {
     "data": {
      "text/plain": [
       "(True, 27, True)"
      ]
     },
     "execution_count": 7,
     "metadata": {
     },
     "output_type": "execute_result"
    }
   ],
   "source": [
    "F.is_finite(), F.cardinality(), F.cardinality()==p^f.degree()"
   ]
  },
  {
   "cell_type": "markdown",
   "metadata": {
    "collapsed": false
   },
   "source": [
    "One can always perform arithmetic operations on $a$."
   ]
  },
  {
   "cell_type": "code",
   "execution_count": 8,
   "metadata": {
    "collapsed": false
   },
   "outputs": [
    {
     "data": {
      "text/plain": [
       "1"
      ]
     },
     "execution_count": 8,
     "metadata": {
     },
     "output_type": "execute_result"
    }
   ],
   "source": [
    "(a^5+a^3+1)/(a^2+a+1)"
   ]
  },
  {
   "cell_type": "markdown",
   "metadata": {
    "collapsed": false
   },
   "source": [
    "The following generates powers of $a$. For some choices of irreducible polynomial $f(x)$, $a$ will be a primitive element of $F$. Polynomials with this property is called primitive. Try modifying the inputs above with the choices of polynomial $g_1(x)=x^3+x^2+2$ and $g_2(x)=x^3+x^2+2x+1$ respectively. Which one is actually primitive?"
   ]
  },
  {
   "cell_type": "code",
   "execution_count": 9,
   "metadata": {
    "collapsed": false
   },
   "outputs": [
    {
     "name": "stdout",
     "output_type": "stream",
     "text": [
      "(1, a)\n",
      "(2, a^2)\n",
      "(3, 2*a^2 + a + 2)\n",
      "(4, 2*a^2 + a + 1)\n",
      "(5, 2*a^2 + 1)\n",
      "(6, a^2 + 1)\n",
      "(7, 2*a^2 + 2*a + 2)\n",
      "(8, a + 1)\n",
      "(9, a^2 + a)\n",
      "(10, a + 2)\n",
      "(11, a^2 + 2*a)\n",
      "(12, a^2 + a + 2)\n",
      "(13, 2)\n",
      "(14, 2*a)\n",
      "(15, 2*a^2)\n",
      "(16, a^2 + 2*a + 1)\n",
      "(17, a^2 + 2*a + 2)\n",
      "(18, a^2 + 2)\n",
      "(19, 2*a^2 + 2)\n",
      "(20, a^2 + a + 1)\n",
      "(21, 2*a + 2)\n",
      "(22, 2*a^2 + 2*a)\n",
      "(23, 2*a + 1)\n",
      "(24, 2*a^2 + a)\n",
      "(25, 2*a^2 + 2*a + 1)\n",
      "(26, 1)\n"
     ]
    }
   ],
   "source": [
    "for i in range(1,F.cardinality()):\n",
    "    print(i,a^i)"
   ]
  },
  {
   "cell_type": "markdown",
   "metadata": {
    "collapsed": false
   },
   "source": [
    "The following verifies a cool fact about finite fields:\n",
    "    $$x^{p^n}-x=\\prod_{f:\\, \\deg(f)|n} f(x),$$\n",
    " where $f$ is a monic, irreducible polynomial in $\\mathbb{F}_p[x]$"
   ]
  },
  {
   "cell_type": "code",
   "execution_count": 10,
   "metadata": {
    "collapsed": false
   },
   "outputs": [
    {
     "name": "stdout",
     "output_type": "stream",
     "text": [
      "x^81 + 2*x\n"
     ]
    }
   ],
   "source": [
    "n = 4\n",
    "prod = 1\n",
    "for f in I:\n",
    "    if n%(f.degree())==0:\n",
    "        prod *= f\n",
    "print(prod)"
   ]
  },
  {
   "cell_type": "markdown",
   "metadata": {
    "collapsed": false
   },
   "source": [
    "We may call an instance of finite field $\\mathbb{F}_{p^n}$ and denote a (predetermined) primitive element in the field by $A$. Note that a particular choice of (primitive) irreducible polynomial is used, as seen below when computing $A^3$."
   ]
  },
  {
   "cell_type": "code",
   "execution_count": 5,
   "metadata": {
    "collapsed": false
   },
   "outputs": [
    {
     "name": "stdout",
     "output_type": "stream",
     "text": [
      "Finite Field in A of size 2^3\n"
     ]
    },
    {
     "data": {
      "text/plain": [
       "A"
      ]
     },
     "execution_count": 5,
     "metadata": {
     },
     "output_type": "execute_result"
    }
   ],
   "source": [
    "p1,n1 = 2,3\n",
    "F2 = GF(p1^n1,name='A'); print(F2)\n",
    "A = F2.gens()[0]; A"
   ]
  },
  {
   "cell_type": "code",
   "execution_count": 7,
   "metadata": {
    "collapsed": false
   },
   "outputs": [
    {
     "data": {
      "text/plain": [
       "A + 1"
      ]
     },
     "execution_count": 7,
     "metadata": {
     },
     "output_type": "execute_result"
    }
   ],
   "source": [
    "A^3"
   ]
  },
  {
   "cell_type": "markdown",
   "metadata": {
    "collapsed": false
   },
   "source": [
    "We may create a polynomial ring with this finite field. To avoid confusion with the parts above, we wi"
   ]
  },
  {
   "cell_type": "code",
   "execution_count": 8,
   "metadata": {
    "collapsed": false
   },
   "outputs": [
    {
     "name": "stdout",
     "output_type": "stream",
     "text": [
      "Univariate Polynomial Ring in y over Finite Field in A of size 2^3\n"
     ]
    },
    {
     "data": {
      "text/plain": [
       "y"
      ]
     },
     "execution_count": 8,
     "metadata": {
     },
     "output_type": "execute_result"
    }
   ],
   "source": [
    "R2 = F2['y']; print(R2)\n",
    "y = R2.gens()[0]; y"
   ]
  },
  {
   "cell_type": "markdown",
   "metadata": {
    "collapsed": false
   },
   "source": [
    "The following code is identical to the one above, with the exception that $y$ is used instead of $x$ as a variable."
   ]
  },
  {
   "cell_type": "code",
   "execution_count": 9,
   "metadata": {
    "collapsed": false
   },
   "outputs": [
   ],
   "source": [
    "def create_poly(t):\n",
    "    f = 0\n",
    "    for i,coeff in enumerate(t):\n",
    "        f += coeff*y^i\n",
    "    return f"
   ]
  },
  {
   "cell_type": "code",
   "execution_count": 10,
   "metadata": {
    "collapsed": false
   },
   "outputs": [
    {
     "data": {
      "text/plain": [
       "A^2*y^3 + A*y + 1"
      ]
     },
     "execution_count": 10,
     "metadata": {
     },
     "output_type": "execute_result"
    }
   ],
   "source": [
    "f = create_poly((1,A,0,A^2)); f"
   ]
  },
  {
   "cell_type": "markdown",
   "metadata": {
    "collapsed": false
   },
   "source": [
    "Similar to the code above, the following code generates all monic, irreducible polynomial $f(x)$ of degree at most $m$ in $\\mathbb{F}_{p^n}[x]$. It works similarly to the Sieve of Erathosthenes to generate prime numbers:\n",
    "- First, generate all polynomials of degree at most $m$ and create an empty list $I$.\n",
    "- Starting from degree 1 and going up, we check if a polynomial $g(x)$ is divisible by any $f(x)\\in I$. If $g(x)$ is not divisible by all polynomials in $I$, add $g(x)$ to $I$. Otherwise, $f(x)$ is reducible, so do nothing and proceed to the next polynomial on the list."
   ]
  },
  {
   "cell_type": "code",
   "execution_count": 12,
   "metadata": {
    "collapsed": false
   },
   "outputs": [
    {
     "name": "stdout",
     "output_type": "stream",
     "text": [
      "204\n"
     ]
    }
   ],
   "source": [
    "m = 3\n",
    "from itertools import product as Product\n",
    "I = []\n",
    "for d in range(m+1):\n",
    "    for t in Product(F2,repeat=d):\n",
    "        g = create_poly(list(t)+[1])\n",
    "        if g.degree()<1:\n",
    "            continue\n",
    "        irreducible = True\n",
    "        for f in I:\n",
    "            if g%f==0:\n",
    "                irreducible = False\n",
    "                break\n",
    "        if irreducible:\n",
    "            I += [g]\n",
    "print(len(I))"
   ]
  },
  {
   "cell_type": "code",
   "execution_count": 0,
   "metadata": {
    "collapsed": false
   },
   "outputs": [
   ],
   "source": [
   ]
  }
 ],
 "metadata": {
  "kernelspec": {
   "display_name": "SageMath 8.8",
   "language": "sagemath",
   "metadata": {
    "cocalc": {
     "description": "Open-source mathematical software system",
     "priority": 1,
     "url": "https://www.sagemath.org/"
    }
   },
   "name": "sage-8.8"
  },
  "language_info": {
   "codemirror_mode": {
    "name": "ipython",
    "version": 2
   },
   "file_extension": ".py",
   "mimetype": "text/x-python",
   "name": "python",
   "nbconvert_exporter": "python",
   "pygments_lexer": "ipython2",
   "version": "2.7.15"
  }
 },
 "nbformat": 4,
 "nbformat_minor": 0
}